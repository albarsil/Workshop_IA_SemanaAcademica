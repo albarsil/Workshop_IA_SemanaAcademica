{
  "nbformat": 4,
  "nbformat_minor": 0,
  "metadata": {
    "colab": {
      "name": "prediction-of-quality-of-wine.ipynb",
      "version": "0.3.2",
      "provenance": []
    },
    "kernelspec": {
      "name": "python3",
      "language": "python",
      "display_name": "Python 3"
    }
  },
  "cells": [
    {
      "metadata": {
        "_cell_guid": "f6a9d2eb-e03c-4c8b-8d7f-c0cb735d9ce9",
        "_uuid": "255e8fd04c90eae23164df043ebf16550ecff8fe",
        "colab_type": "code",
        "cellView": "both",
        "outputId": "4a82a0cd-4995-4e4e-af8f-f6777f4c4bed",
        "id": "BvoJ23-0dJbd",
        "colab": {
          "base_uri": "https://localhost:8080/",
          "height": 442
        }
      },
      "cell_type": "code",
      "source": [
        "#@title Default title text\n",
        "#Here we see that fixed acidity does not give any specification to classify the quality.\n",
        "fig = plt.figure(figsize = (10,6))\n",
        "sns.barplot(x = 'quality', y = 'fixed acidity', data = wine)"
      ],
      "execution_count": 32,
      "outputs": [
        {
          "output_type": "stream",
          "text": [
            "/usr/local/lib/python3.6/dist-packages/seaborn/categorical.py:1428: FutureWarning: remove_na is deprecated and is a private function. Do not use.\n",
            "  stat_data = remove_na(group_data)\n"
          ],
          "name": "stderr"
        },
        {
          "output_type": "execute_result",
          "data": {
            "text/plain": [
              "<matplotlib.axes._subplots.AxesSubplot at 0x7fbe02a03b70>"
            ]
          },
          "metadata": {
            "tags": []
          },
          "execution_count": 32
        },
        {
          "output_type": "display_data",
          "data": {
            "image/png": "[encoded data removed]",
            "text/plain": [
              "<matplotlib.figure.Figure at 0x7fbe029b2198>"
            ]
          },
          "metadata": {
            "tags": []
          }
        }
      ]
    },
    {
      "metadata": {
        "_cell_guid": "6876755d-3552-491d-b416-a012fbe221e4",
        "_uuid": "0b46910d15d98513ea81fb24e0f8ab28134c5f5f",
        "colab_type": "text",
        "id": "KMVsH5eNanfs"
      },
      "cell_type": "markdown",
      "source": [
        "Exemplo retirado de: [Kaggle - Prediction of quality of Wine](https://www.kaggle.com/vishalyo990/prediction-of-quality-of-wine)"
      ]
    },
    {
      "metadata": {
        "_cell_guid": "87c7b371-53b1-4d4d-bfbd-373d2b84b33a",
        "_uuid": "da5343fb3f6b3942909c94bf8e2add04fd3ff1a3",
        "id": "JFuK1MFLZ6ju",
        "colab_type": "code",
        "colab": {}
      },
      "cell_type": "code",
      "source": [
        "import pandas as pd\n",
        "import seaborn as sns\n",
        "import matplotlib.pyplot as plt\n",
        "from sklearn.ensemble import RandomForestClassifier\n",
        "from sklearn.svm import SVC\n",
        "from sklearn.linear_model import SGDClassifier\n",
        "from sklearn.metrics import confusion_matrix, classification_report\n",
        "from sklearn.preprocessing import StandardScaler, LabelEncoder\n",
        "from sklearn.model_selection import train_test_split, GridSearchCV, cross_val_score\n",
        "from google.colab import drive\n",
        "%matplotlib inline"
      ],
      "execution_count": 0,
      "outputs": []
    },
    {
      "metadata": {
        "id": "RH4Y8uDKboSv",
        "colab_type": "code",
        "outputId": "007df32d-b431-4b73-ee98-d030d146d9db",
        "colab": {
          "base_uri": "https://localhost:8080/",
          "height": 55
        }
      },
      "cell_type": "code",
      "source": [
        "drive.mount('/content/drive/')"
      ],
      "execution_count": 0,
      "outputs": [
        {
          "output_type": "stream",
          "text": [
            "Drive already mounted at /content/drive/; to attempt to forcibly remount, call drive.mount(\"/content/drive/\", force_remount=True).\n"
          ],
          "name": "stdout"
        }
      ]
    },
    {
      "metadata": {
        "_cell_guid": "800f9ff4-79bf-4785-9569-23e1d9b9b03b",
        "_uuid": "07c8409e4eccd80507d9846e8cc70ea42e58cbe6",
        "id": "QPsnJlIaZ6j3",
        "colab_type": "code",
        "colab": {}
      },
      "cell_type": "code",
      "source": [
        "#Loading dataset\n",
        "wine = pd.read_csv('drive/My Drive/winequality-red.csv')"
      ],
      "execution_count": 0,
      "outputs": []
    },
    {
      "metadata": {
        "_cell_guid": "019cbcee-6cb2-478c-922b-ccebe4962769",
        "_uuid": "45ff42953e9082cd55612a4774408cc97a05fb11",
        "id": "AyJuK-92Z6j-",
        "colab_type": "code",
        "outputId": "e01c7801-aa4c-4dbe-acfe-1006601d26aa",
        "colab": {
          "base_uri": "https://localhost:8080/",
          "height": 261
        }
      },
      "cell_type": "code",
      "source": [
        "#Let's check how the data is distributed\n",
        "wine.head()"
      ],
      "execution_count": 0,
      "outputs": [
        {
          "output_type": "execute_result",
          "data": {
            "text/html": [
              "<div>\n",
              "<style scoped>\n",
              "    .dataframe tbody tr th:only-of-type {\n",
              "        vertical-align: middle;\n",
              "    }\n",
              "\n",
              "    .dataframe tbody tr th {\n",
              "        vertical-align: top;\n",
              "    }\n",
              "\n",
              "    .dataframe thead th {\n",
              "        text-align: right;\n",
              "    }\n",
              "</style>\n",
              "<table border=\"1\" class=\"dataframe\">\n",
              "  <thead>\n",
              "    <tr style=\"text-align: right;\">\n",
              "      <th></th>\n",
              "      <th>fixed acidity</th>\n",
              "      <th>volatile acidity</th>\n",
              "      <th>citric acid</th>\n",
              "      <th>residual sugar</th>\n",
              "      <th>chlorides</th>\n",
              "      <th>free sulfur dioxide</th>\n",
              "      <th>total sulfur dioxide</th>\n",
              "      <th>density</th>\n",
              "      <th>pH</th>\n",
              "      <th>sulphates</th>\n",
              "      <th>alcohol</th>\n",
              "      <th>quality</th>\n",
              "    </tr>\n",
              "  </thead>\n",
              "  <tbody>\n",
              "    <tr>\n",
              "      <th>0</th>\n",
              "      <td>7.4</td>\n",
              "      <td>0.70</td>\n",
              "      <td>0.00</td>\n",
              "      <td>1.9</td>\n",
              "      <td>0.076</td>\n",
              "      <td>11.0</td>\n",
              "      <td>34.0</td>\n",
              "      <td>0.9978</td>\n",
              "      <td>3.51</td>\n",
              "      <td>0.56</td>\n",
              "      <td>9.4</td>\n",
              "      <td>5</td>\n",
              "    </tr>\n",
              "    <tr>\n",
              "      <th>1</th>\n",
              "      <td>7.8</td>\n",
              "      <td>0.88</td>\n",
              "      <td>0.00</td>\n",
              "      <td>2.6</td>\n",
              "      <td>0.098</td>\n",
              "      <td>25.0</td>\n",
              "      <td>67.0</td>\n",
              "      <td>0.9968</td>\n",
              "      <td>3.20</td>\n",
              "      <td>0.68</td>\n",
              "      <td>9.8</td>\n",
              "      <td>5</td>\n",
              "    </tr>\n",
              "    <tr>\n",
              "      <th>2</th>\n",
              "      <td>7.8</td>\n",
              "      <td>0.76</td>\n",
              "      <td>0.04</td>\n",
              "      <td>2.3</td>\n",
              "      <td>0.092</td>\n",
              "      <td>15.0</td>\n",
              "      <td>54.0</td>\n",
              "      <td>0.9970</td>\n",
              "      <td>3.26</td>\n",
              "      <td>0.65</td>\n",
              "      <td>9.8</td>\n",
              "      <td>5</td>\n",
              "    </tr>\n",
              "    <tr>\n",
              "      <th>3</th>\n",
              "      <td>11.2</td>\n",
              "      <td>0.28</td>\n",
              "      <td>0.56</td>\n",
              "      <td>1.9</td>\n",
              "      <td>0.075</td>\n",
              "      <td>17.0</td>\n",
              "      <td>60.0</td>\n",
              "      <td>0.9980</td>\n",
              "      <td>3.16</td>\n",
              "      <td>0.58</td>\n",
              "      <td>9.8</td>\n",
              "      <td>6</td>\n",
              "    </tr>\n",
              "    <tr>\n",
              "      <th>4</th>\n",
              "      <td>7.4</td>\n",
              "      <td>0.70</td>\n",
              "      <td>0.00</td>\n",
              "      <td>1.9</td>\n",
              "      <td>0.076</td>\n",
              "      <td>11.0</td>\n",
              "      <td>34.0</td>\n",
              "      <td>0.9978</td>\n",
              "      <td>3.51</td>\n",
              "      <td>0.56</td>\n",
              "      <td>9.4</td>\n",
              "      <td>5</td>\n",
              "    </tr>\n",
              "  </tbody>\n",
              "</table>\n",
              "</div>"
            ],
            "text/plain": [
              "   fixed acidity  volatile acidity  citric acid  residual sugar  chlorides  \\\n",
              "0            7.4              0.70         0.00             1.9      0.076   \n",
              "1            7.8              0.88         0.00             2.6      0.098   \n",
              "2            7.8              0.76         0.04             2.3      0.092   \n",
              "3           11.2              0.28         0.56             1.9      0.075   \n",
              "4            7.4              0.70         0.00             1.9      0.076   \n",
              "\n",
              "   free sulfur dioxide  total sulfur dioxide  density    pH  sulphates  \\\n",
              "0                 11.0                  34.0   0.9978  3.51       0.56   \n",
              "1                 25.0                  67.0   0.9968  3.20       0.68   \n",
              "2                 15.0                  54.0   0.9970  3.26       0.65   \n",
              "3                 17.0                  60.0   0.9980  3.16       0.58   \n",
              "4                 11.0                  34.0   0.9978  3.51       0.56   \n",
              "\n",
              "   alcohol  quality  \n",
              "0      9.4        5  \n",
              "1      9.8        5  \n",
              "2      9.8        5  \n",
              "3      9.8        6  \n",
              "4      9.4        5  "
            ]
          },
          "metadata": {
            "tags": []
          },
          "execution_count": 15
        }
      ]
    },
    {
      "metadata": {
        "id": "YdoZUJY3cUAQ",
        "colab_type": "code",
        "outputId": "55f49a0e-8274-42b0-95b7-a65c9611e3da",
        "colab": {
          "base_uri": "https://localhost:8080/",
          "height": 35
        }
      },
      "cell_type": "code",
      "source": [
        "list(set(wine['quality']))"
      ],
      "execution_count": 0,
      "outputs": [
        {
          "output_type": "execute_result",
          "data": {
            "text/plain": [
              "[3, 4, 5, 6, 7, 8]"
            ]
          },
          "metadata": {
            "tags": []
          },
          "execution_count": 28
        }
      ]
    },
    {
      "metadata": {
        "_cell_guid": "704f4830-5804-436d-9b78-6ca00f5ae510",
        "_uuid": "af141503385967f92d409c5e111e2724b4c9636f",
        "id": "Mzrl3lLJZ6kF",
        "colab_type": "code",
        "outputId": "6c41b42f-6800-4c91-94a4-849b25f3d587",
        "colab": {
          "base_uri": "https://localhost:8080/",
          "height": 321
        }
      },
      "cell_type": "code",
      "source": [
        "#Information about the data columns\n",
        "wine.info()"
      ],
      "execution_count": 0,
      "outputs": [
        {
          "output_type": "stream",
          "text": [
            "<class 'pandas.core.frame.DataFrame'>\n",
            "RangeIndex: 1599 entries, 0 to 1598\n",
            "Data columns (total 12 columns):\n",
            "fixed acidity           1599 non-null float64\n",
            "volatile acidity        1599 non-null float64\n",
            "citric acid             1599 non-null float64\n",
            "residual sugar          1599 non-null float64\n",
            "chlorides               1599 non-null float64\n",
            "free sulfur dioxide     1599 non-null float64\n",
            "total sulfur dioxide    1599 non-null float64\n",
            "density                 1599 non-null float64\n",
            "pH                      1599 non-null float64\n",
            "sulphates               1599 non-null float64\n",
            "alcohol                 1599 non-null float64\n",
            "quality                 1599 non-null int64\n",
            "dtypes: float64(11), int64(1)\n",
            "memory usage: 150.0 KB\n"
          ],
          "name": "stdout"
        }
      ]
    },
    {
      "metadata": {
        "id": "8a2gT13ycd7_",
        "colab_type": "text"
      },
      "cell_type": "markdown",
      "source": [
        "## Aprendizagem de máquina ##"
      ]
    },
    {
      "metadata": {
        "id": "sPOBE0yuevTO",
        "colab_type": "code",
        "colab": {}
      },
      "cell_type": "code",
      "source": [
        "from sklearn.linear_model import LogisticRegression  # Logistic Regression\n",
        "from sklearn.cross_validation import train_test_split # Para dividir o conjunto de treinamento e teste\n",
        "from sklearn.neighbors import KNeighborsClassifier  # K nearest neighbours\n",
        "from sklearn import svm  # Para o algoritmo Support Vector Machine (SVM) Algorithm\n",
        "from sklearn import metrics # Para verificar as métricas\n",
        "from sklearn.tree import DecisionTreeClassifier # para o algoritmo de árvores de decisão\n",
        "from sklearn.neural_network import MLPClassifier # Para as redes neurais\n",
        "from sklearn import ensemble, naive_bayes, neighbors, svm, tree\n",
        "from sklearn.preprocessing import MinMaxScaler"
      ],
      "execution_count": 0,
      "outputs": []
    },
    {
      "metadata": {
        "id": "Uk_sD0jtd-Cn",
        "colab_type": "code",
        "colab": {}
      },
      "cell_type": "code",
      "source": [
        "x_train, x_test, y_train, y_test = train_test_split(wine.drop('quality', axis=1, inplace=False), wine['quality'], test_size = 0.2, random_state = 42)"
      ],
      "execution_count": 0,
      "outputs": []
    },
    {
      "metadata": {
        "id": "w3U2_207cc03",
        "colab_type": "code",
        "colab": {
          "base_uri": "https://localhost:8080/",
          "height": 35
        },
        "outputId": "36057a61-55a3-4cd6-813f-550b816c1433"
      },
      "cell_type": "code",
      "source": [
        "model = svm.SVC(kernel='linear', gamma='auto', C=1, degree=0.1, probability=False)\n",
        "model.fit(x_train,y_train) # nós treinamos o algoritmo com os dados de treinamento e a saída de treinamento\n",
        "y_predicted=model.predict(x_test) # agora passamos os dados de teste para o algoritmo treinado\n",
        "\n",
        "# Para verificar o desempenho, é necessário passar a saída obtida pelo modelo e a esperada\n",
        "print('A acurácia do SVM linear é:',metrics.accuracy_score(y_predicted,y_test)) # agora nós verificamos a acurácia do algoritmo.\n"
      ],
      "execution_count": 62,
      "outputs": [
        {
          "output_type": "stream",
          "text": [
            "A acurácia do SVM linear é: 0.56875\n"
          ],
          "name": "stdout"
        }
      ]
    },
    {
      "metadata": {
        "id": "4-aLdCD0gqCq",
        "colab_type": "code",
        "colab": {
          "base_uri": "https://localhost:8080/",
          "height": 35
        },
        "outputId": "654cd800-8e28-4f4a-9724-9d4dcf133c14"
      },
      "cell_type": "code",
      "source": [
        "model = svm.SVC(kernel='rbf', gamma='auto', C=1, degree=0.1, probability=False)\n",
        "model.fit(x_train,y_train) # nós treinamos o algoritmo com os dados de treinamento e a saída de treinamento\n",
        "y_predicted=model.predict(x_test) # agora passamos os dados de teste para o algoritmo treinado\n",
        "\n",
        "# Para verificar o desempenho, é necessário passar a saída obtida pelo modelo e a esperada\n",
        "print('A acurácia do SVM radial é:',metrics.accuracy_score(y_predicted,y_test)) # agora nós verificamos a acurácia do algoritmo.\n"
      ],
      "execution_count": 63,
      "outputs": [
        {
          "output_type": "stream",
          "text": [
            "A acurácia do SVM radial é: 0.534375\n"
          ],
          "name": "stdout"
        }
      ]
    },
    {
      "metadata": {
        "id": "Fgxfl9BYg0ar",
        "colab_type": "code",
        "colab": {
          "base_uri": "https://localhost:8080/",
          "height": 35
        },
        "outputId": "90419813-1d8d-4db1-d70b-b24114972bef"
      },
      "cell_type": "code",
      "source": [
        "model = svm.SVC(kernel='poly', gamma='auto', C=1, degree=0.1, probability=False)\n",
        "model.fit(x_train,y_train) # nós treinamos o algoritmo com os dados de treinamento e a saída de treinamento\n",
        "y_predicted=model.predict(x_test) # agora passamos os dados de teste para o algoritmo treinado\n",
        "\n",
        "# Para verificar o desempenho, é necessário passar a saída obtida pelo modelo e a esperada\n",
        "print('A acurácia do SVM polinomial é:',metrics.accuracy_score(y_predicted,y_test)) # agora nós verificamos a acurácia do algoritmo.\n"
      ],
      "execution_count": 64,
      "outputs": [
        {
          "output_type": "stream",
          "text": [
            "A acurácia do SVM polinomial é: 0.40625\n"
          ],
          "name": "stdout"
        }
      ]
    },
    {
      "metadata": {
        "id": "syAGbrjkcc3g",
        "colab_type": "code",
        "colab": {
          "base_uri": "https://localhost:8080/",
          "height": 35
        },
        "outputId": "740bf214-1fbb-43cb-d712-c98a965edbd2"
      },
      "cell_type": "code",
      "source": [
        "model = LogisticRegression()\n",
        "model.fit(x_train,y_train)\n",
        "y_predicted=model.predict(x_test)\n",
        "print('A acurácia da regressão logística é:',metrics.accuracy_score(y_predicted,y_test))"
      ],
      "execution_count": 58,
      "outputs": [
        {
          "output_type": "stream",
          "text": [
            "A acurácia da regressão logística é: 0.56875\n"
          ],
          "name": "stdout"
        }
      ]
    },
    {
      "metadata": {
        "id": "p1z6BoYDcc61",
        "colab_type": "code",
        "colab": {
          "base_uri": "https://localhost:8080/",
          "height": 35
        },
        "outputId": "f9b84f30-9139-41ca-8c11-84eafdbd7376"
      },
      "cell_type": "code",
      "source": [
        "model=DecisionTreeClassifier()\n",
        "model.fit(x_train,y_train)\n",
        "y_predicted=model.predict(x_test)\n",
        "print('A acurácia das árvores de decisão é:',metrics.accuracy_score(y_predicted,y_test))"
      ],
      "execution_count": 59,
      "outputs": [
        {
          "output_type": "stream",
          "text": [
            "A acurácia das árvores de decisão é: 0.575\n"
          ],
          "name": "stdout"
        }
      ]
    },
    {
      "metadata": {
        "id": "hGCgpjG2hAUO",
        "colab_type": "code",
        "colab": {
          "base_uri": "https://localhost:8080/",
          "height": 35
        },
        "outputId": "af776645-8495-4748-f594-7e093f8bf048"
      },
      "cell_type": "code",
      "source": [
        "model=KNeighborsClassifier(n_neighbors=3)\n",
        "model.fit(x_train,y_train)\n",
        "y_predicted=model.predict (x_test)\n",
        "print('A acurácia do KNN é:',metrics.accuracy_score(y_predicted,y_test))"
      ],
      "execution_count": 68,
      "outputs": [
        {
          "output_type": "stream",
          "text": [
            "A acurácia do KNN é: 0.453125\n"
          ],
          "name": "stdout"
        }
      ]
    },
    {
      "metadata": {
        "id": "gCCQH6fxcdBq",
        "colab_type": "code",
        "colab": {
          "base_uri": "https://localhost:8080/",
          "height": 35
        },
        "outputId": "7557e308-6396-4913-c54e-10149605ecab"
      },
      "cell_type": "code",
      "source": [
        "model=ensemble.RandomForestClassifier(n_estimators=100, criterion='entropy', max_depth=None, n_jobs=-1, bootstrap=True)\n",
        "model.fit(x_train,y_train)\n",
        "y_predicted=model.predict(x_test)\n",
        "print('A acurácia do random forest é:',metrics.accuracy_score(y_predicted,y_test))"
      ],
      "execution_count": 71,
      "outputs": [
        {
          "output_type": "stream",
          "text": [
            "A acurácia do random forest é: 0.653125\n"
          ],
          "name": "stdout"
        }
      ]
    },
    {
      "metadata": {
        "id": "0J3UPFGbhAmw",
        "colab_type": "code",
        "colab": {
          "base_uri": "https://localhost:8080/",
          "height": 35
        },
        "outputId": "321e2200-cc5f-4f04-9e1b-cfce45fb5093"
      },
      "cell_type": "code",
      "source": [
        "model=naive_bayes.GaussianNB()\n",
        "model.fit(x_train,y_train)\n",
        "y_predicted=model.predict(x_test)\n",
        "print('A acurácia do naive bayes é:',metrics.accuracy_score(y_predicted,y_test))"
      ],
      "execution_count": 72,
      "outputs": [
        {
          "output_type": "stream",
          "text": [
            "A acurácia do naive bayes é: 0.55\n"
          ],
          "name": "stdout"
        }
      ]
    },
    {
      "metadata": {
        "id": "YoeBwCf-hbdd",
        "colab_type": "code",
        "colab": {
          "base_uri": "https://localhost:8080/",
          "height": 35
        },
        "outputId": "338b8344-39ea-44e5-a4d2-de516f04f434"
      },
      "cell_type": "code",
      "source": [
        "model=ensemble.AdaBoostClassifier(tree.DecisionTreeClassifier(max_depth=50), algorithm=\"SAMME\", n_estimators=100)\n",
        "model.fit(x_train,y_train)\n",
        "y_predicted=model.predict(x_test)\n",
        "print('A acurácia do adaboost é:',metrics.accuracy_score(y_predicted,y_test))"
      ],
      "execution_count": 73,
      "outputs": [
        {
          "output_type": "stream",
          "text": [
            "A acurácia do adaboost é: 0.578125\n"
          ],
          "name": "stdout"
        }
      ]
    },
    {
      "metadata": {
        "id": "96-D-oBkcdLu",
        "colab_type": "code",
        "colab": {
          "base_uri": "https://localhost:8080/",
          "height": 35
        },
        "outputId": "1b358ccc-f256-4a7f-abbb-3b59480b6040"
      },
      "cell_type": "code",
      "source": [
        "model=MLPClassifier(\n",
        "    max_iter = 1000,\n",
        "    momentum = 0.25,\n",
        "    learning_rate_init = 0.13,\n",
        "    hidden_layer_sizes = (12,),\n",
        "    solver = 'lbfgs',\n",
        "    learning_rate = 'invscaling',\n",
        "    activation = 'relu',\n",
        "    early_stopping = True,\n",
        "    shuffle = True,\n",
        "    batch_size = 2,\n",
        "    random_state = 2567\n",
        ")\n",
        "model.fit(x_train,y_train.astype(str))\n",
        "y_predicted=model.predict(x_test)\n",
        "print('A acurácia da rede neural é:',metrics.accuracy_score(y_predicted,y_test.astype(str)))"
      ],
      "execution_count": 74,
      "outputs": [
        {
          "output_type": "stream",
          "text": [
            "A acurácia da rede neural é: 0.56875\n"
          ],
          "name": "stdout"
        }
      ]
    },
    {
      "metadata": {
        "_cell_guid": "9838ca3d-4b89-4503-9d7e-247cc3a9730b",
        "_uuid": "974be3136a2f13bf26a88b26cbddbf73f5cafda9",
        "id": "0Fg9_l5RZ6k9",
        "colab_type": "text"
      },
      "cell_type": "markdown",
      "source": [
        "## Criação de intervalos"
      ]
    },
    {
      "metadata": {
        "_cell_guid": "33e1c5c0-a65a-4918-8d94-db8e4c521d50",
        "_uuid": "3f082340d1b157391052f0fa20a44aa0105ce987",
        "id": "HHUZfBuFZ6k9",
        "colab_type": "code",
        "colab": {}
      },
      "cell_type": "code",
      "source": [
        "bins = (2, 6.5, 8)\n",
        "group_names = ['bad', 'good']\n",
        "wine['quality'] = pd.cut(wine['quality'], bins = bins, labels = group_names)"
      ],
      "execution_count": 0,
      "outputs": []
    },
    {
      "metadata": {
        "_cell_guid": "21a15507-cc97-4c40-835b-51fd79f7cdd9",
        "_uuid": "87127b3c5e9493a9364b3c63401ddb11a51373a1",
        "id": "_WtMUZVCZ6lB",
        "colab_type": "code",
        "colab": {}
      },
      "cell_type": "code",
      "source": [
        "label_quality = LabelEncoder()"
      ],
      "execution_count": 0,
      "outputs": []
    },
    {
      "metadata": {
        "_cell_guid": "f4c3a886-4b1f-4533-a660-b7ffb66376c2",
        "_uuid": "a592e2b8ece55e8d5928241eb5b9188226a725bf",
        "id": "AATCnxTCZ6lF",
        "colab_type": "code",
        "colab": {}
      },
      "cell_type": "code",
      "source": [
        "wine['quality'] = label_quality.fit_transform(wine['quality'])"
      ],
      "execution_count": 0,
      "outputs": []
    },
    {
      "metadata": {
        "_cell_guid": "faa36f65-7e80-44d7-a4f8-10e482cec684",
        "_uuid": "65a97517331f835cade698b594a7376ea7778eeb",
        "id": "UnwyNGgkZ6lZ",
        "colab_type": "code",
        "colab": {
          "base_uri": "https://localhost:8080/",
          "height": 71
        },
        "outputId": "4541d9ac-ba71-4800-b9e5-863d848c05bc"
      },
      "cell_type": "code",
      "source": [
        "wine['quality'].value_counts()"
      ],
      "execution_count": 79,
      "outputs": [
        {
          "output_type": "execute_result",
          "data": {
            "text/plain": [
              "0    1382\n",
              "1     217\n",
              "Name: quality, dtype: int64"
            ]
          },
          "metadata": {
            "tags": []
          },
          "execution_count": 79
        }
      ]
    },
    {
      "metadata": {
        "_cell_guid": "2fe7339e-837e-48c0-b988-a36c89632844",
        "_uuid": "d2a4c7e14dc6b8faa31efd1fcbe4f61b80a7d3e1",
        "id": "Ofe-xHgDZ6lc",
        "colab_type": "code",
        "colab": {
          "base_uri": "https://localhost:8080/",
          "height": 333
        },
        "outputId": "4d3917f6-a312-4d83-e5f6-a07f83ba02a8"
      },
      "cell_type": "code",
      "source": [
        "sns.countplot(wine['quality'])"
      ],
      "execution_count": 80,
      "outputs": [
        {
          "output_type": "stream",
          "text": [
            "/usr/local/lib/python3.6/dist-packages/seaborn/categorical.py:1428: FutureWarning: remove_na is deprecated and is a private function. Do not use.\n",
            "  stat_data = remove_na(group_data)\n"
          ],
          "name": "stderr"
        },
        {
          "output_type": "execute_result",
          "data": {
            "text/plain": [
              "<matplotlib.axes._subplots.AxesSubplot at 0x7fbe025225f8>"
            ]
          },
          "metadata": {
            "tags": []
          },
          "execution_count": 80
        },
        {
          "output_type": "display_data",
          "data": {
            "image/png": "[encoded data removed]",
            "text/plain": [
              "<matplotlib.figure.Figure at 0x7fbe025226a0>"
            ]
          },
          "metadata": {
            "tags": []
          }
        }
      ]
    },
    {
      "metadata": {
        "_cell_guid": "ba89712a-ad66-4a92-9214-4e35c3802d59",
        "_uuid": "b893deb26bb309c914de12aadf9ad8437deb8358",
        "id": "FP6e58aIZ6ll",
        "colab_type": "code",
        "colab": {}
      },
      "cell_type": "code",
      "source": [
        "#Now seperate the dataset as response variable and feature variabes\n",
        "X = wine.drop('quality', axis = 1)\n",
        "y = wine['quality']"
      ],
      "execution_count": 0,
      "outputs": []
    },
    {
      "metadata": {
        "_cell_guid": "d7703d9a-3397-4c42-9b38-6f341cac1cde",
        "_uuid": "bdfc0f6ba146f947f265fd493e8327366fdb5c9a",
        "id": "UtiQaa76Z6lp",
        "colab_type": "code",
        "colab": {}
      },
      "cell_type": "code",
      "source": [
        "x_train, x_test, y_train, y_test = train_test_split(wine.drop('quality', axis=1, inplace=False), wine['quality'], test_size = 0.2, random_state = 42)"
      ],
      "execution_count": 0,
      "outputs": []
    },
    {
      "metadata": {
        "_cell_guid": "cef31289-9cec-4ab1-afea-2ff34c36fec1",
        "_uuid": "ca68209bcd596b3cfcaf42837e4a6e49b6c12974",
        "id": "ACr_BCH1Z6lz",
        "colab_type": "code",
        "colab": {}
      },
      "cell_type": "code",
      "source": [
        "#Applying Standard scaling to get optimized result\n",
        "sc = MinMaxScaler()"
      ],
      "execution_count": 0,
      "outputs": []
    },
    {
      "metadata": {
        "_cell_guid": "705b8e8a-a6d3-4e93-8b53-7c677b5b88c4",
        "_uuid": "7878194b0c4935904c68a88a91e18f9bbbabbda7",
        "id": "QAezdz4MZ6l8",
        "colab_type": "code",
        "colab": {}
      },
      "cell_type": "code",
      "source": [
        "x_train = sc.fit_transform(x_train)\n",
        "x_test = sc.fit_transform(x_test)"
      ],
      "execution_count": 0,
      "outputs": []
    },
    {
      "metadata": {
        "_cell_guid": "645e952e-09b5-48df-9d08-aa6454ef333a",
        "_uuid": "3fd28a9b12fd0f5a00bc0add378ca1f9632bc319",
        "id": "GBgTjYtEZ6mB",
        "colab_type": "text"
      },
      "cell_type": "markdown",
      "source": [
        "## Aprendizagem de máquina 2"
      ]
    },
    {
      "metadata": {
        "id": "FqFEMl3rlYtE",
        "colab_type": "code",
        "colab": {
          "base_uri": "https://localhost:8080/",
          "height": 35
        },
        "outputId": "6cc4d67d-8af4-4012-c977-bc789a6fba42"
      },
      "cell_type": "code",
      "source": [
        "model = svm.SVC(kernel='linear', gamma='auto', C=1, degree=0.1, probability=False)\n",
        "model.fit(x_train,y_train) # nós treinamos o algoritmo com os dados de treinamento e a saída de treinamento\n",
        "y_predicted=model.predict(x_test) # agora passamos os dados de teste para o algoritmo treinado\n",
        "\n",
        "# Para verificar o desempenho, é necessário passar a saída obtida pelo modelo e a esperada\n",
        "print('A acurácia do SVM linear é:',metrics.accuracy_score(y_predicted,y_test)) # agora nós verificamos a acurácia do algoritmo.\n"
      ],
      "execution_count": 86,
      "outputs": [
        {
          "output_type": "stream",
          "text": [
            "A acurácia do SVM linear é: 0.853125\n"
          ],
          "name": "stdout"
        }
      ]
    },
    {
      "metadata": {
        "id": "xF9uvl4dlYv5",
        "colab_type": "code",
        "colab": {
          "base_uri": "https://localhost:8080/",
          "height": 35
        },
        "outputId": "f2813afd-119b-45e1-f9f3-01199041e4ae"
      },
      "cell_type": "code",
      "source": [
        "model = svm.SVC(kernel='rbf', gamma='auto', C=1, degree=0.1, probability=False)\n",
        "model.fit(x_train,y_train) # nós treinamos o algoritmo com os dados de treinamento e a saída de treinamento\n",
        "y_predicted=model.predict(x_test) # agora passamos os dados de teste para o algoritmo treinado\n",
        "\n",
        "# Para verificar o desempenho, é necessário passar a saída obtida pelo modelo e a esperada\n",
        "print('A acurácia do SVM radial é:',metrics.accuracy_score(y_predicted,y_test)) # agora nós verificamos a acurácia do algoritmo.\n"
      ],
      "execution_count": 87,
      "outputs": [
        {
          "output_type": "stream",
          "text": [
            "A acurácia do SVM radial é: 0.853125\n"
          ],
          "name": "stdout"
        }
      ]
    },
    {
      "metadata": {
        "id": "zVe9D0MTlY7F",
        "colab_type": "code",
        "colab": {
          "base_uri": "https://localhost:8080/",
          "height": 35
        },
        "outputId": "80ad126a-86c2-4795-8f52-78f58811575c"
      },
      "cell_type": "code",
      "source": [
        "model = svm.SVC(kernel='poly', gamma='auto', C=1, degree=0.1, probability=False)\n",
        "model.fit(x_train,y_train) # nós treinamos o algoritmo com os dados de treinamento e a saída de treinamento\n",
        "y_predicted=model.predict(x_test) # agora passamos os dados de teste para o algoritmo treinado\n",
        "\n",
        "# Para verificar o desempenho, é necessário passar a saída obtida pelo modelo e a esperada\n",
        "print('A acurácia do SVM polinomial é:',metrics.accuracy_score(y_predicted,y_test)) # agora nós verificamos a acurácia do algoritmo.\n"
      ],
      "execution_count": 88,
      "outputs": [
        {
          "output_type": "stream",
          "text": [
            "A acurácia do SVM polinomial é: 0.853125\n"
          ],
          "name": "stdout"
        }
      ]
    },
    {
      "metadata": {
        "id": "LMuJGNBulY-B",
        "colab_type": "code",
        "colab": {
          "base_uri": "https://localhost:8080/",
          "height": 35
        },
        "outputId": "420f889d-0c7e-4d74-bf25-dc92c7aa653f"
      },
      "cell_type": "code",
      "source": [
        "model = LogisticRegression()\n",
        "model.fit(x_train,y_train)\n",
        "y_predicted=model.predict(x_test)\n",
        "print('A acurácia da regressão logística é:',metrics.accuracy_score(y_predicted,y_test))"
      ],
      "execution_count": 89,
      "outputs": [
        {
          "output_type": "stream",
          "text": [
            "A acurácia da regressão logística é: 0.853125\n"
          ],
          "name": "stdout"
        }
      ]
    },
    {
      "metadata": {
        "id": "fThkOpellZiN",
        "colab_type": "code",
        "colab": {
          "base_uri": "https://localhost:8080/",
          "height": 35
        },
        "outputId": "60c2769a-a628-4510-c87a-a668e538c6d9"
      },
      "cell_type": "code",
      "source": [
        "model=DecisionTreeClassifier()\n",
        "model.fit(x_train,y_train)\n",
        "y_predicted=model.predict(x_test)\n",
        "print('A acurácia das árvores de decisão é:',metrics.accuracy_score(y_predicted,y_test))"
      ],
      "execution_count": 90,
      "outputs": [
        {
          "output_type": "stream",
          "text": [
            "A acurácia das árvores de decisão é: 0.7125\n"
          ],
          "name": "stdout"
        }
      ]
    },
    {
      "metadata": {
        "id": "Wr9KKvEBlZmL",
        "colab_type": "code",
        "colab": {
          "base_uri": "https://localhost:8080/",
          "height": 35
        },
        "outputId": "6db15801-921f-4740-893f-1a56e9c258f3"
      },
      "cell_type": "code",
      "source": [
        "model=KNeighborsClassifier(n_neighbors=3)\n",
        "model.fit(x_train,y_train)\n",
        "y_predicted=model.predict (x_test)\n",
        "print('A acurácia do KNN é:',metrics.accuracy_score(y_predicted,y_test))"
      ],
      "execution_count": 91,
      "outputs": [
        {
          "output_type": "stream",
          "text": [
            "A acurácia do KNN é: 0.85\n"
          ],
          "name": "stdout"
        }
      ]
    },
    {
      "metadata": {
        "id": "3jdvrgXjlY59",
        "colab_type": "code",
        "colab": {
          "base_uri": "https://localhost:8080/",
          "height": 35
        },
        "outputId": "1e6a67c7-2b13-4a92-b51f-f6cda9fa4f5f"
      },
      "cell_type": "code",
      "source": [
        "model=ensemble.RandomForestClassifier(n_estimators=100, criterion='entropy', max_depth=None, n_jobs=-1, bootstrap=True)\n",
        "model.fit(x_train,y_train)\n",
        "y_predicted=model.predict(x_test)\n",
        "print('A acurácia do random forest é:',metrics.accuracy_score(y_predicted,y_test))"
      ],
      "execution_count": 92,
      "outputs": [
        {
          "output_type": "stream",
          "text": [
            "A acurácia do random forest é: 0.8375\n"
          ],
          "name": "stdout"
        }
      ]
    },
    {
      "metadata": {
        "id": "2P4zuH3ZlY4q",
        "colab_type": "code",
        "colab": {
          "base_uri": "https://localhost:8080/",
          "height": 35
        },
        "outputId": "f839bb83-ad00-4ff6-a428-fffdd5434aa0"
      },
      "cell_type": "code",
      "source": [
        "model=naive_bayes.GaussianNB()\n",
        "model.fit(x_train,y_train)\n",
        "y_predicted=model.predict(x_test)\n",
        "print('A acurácia do naive bayes é:',metrics.accuracy_score(y_predicted,y_test))"
      ],
      "execution_count": 93,
      "outputs": [
        {
          "output_type": "stream",
          "text": [
            "A acurácia do naive bayes é: 0.821875\n"
          ],
          "name": "stdout"
        }
      ]
    },
    {
      "metadata": {
        "id": "6cmLv4sZlY2Y",
        "colab_type": "code",
        "colab": {
          "base_uri": "https://localhost:8080/",
          "height": 35
        },
        "outputId": "5fc2663c-ff51-4cb7-c601-c1d43799ed78"
      },
      "cell_type": "code",
      "source": [
        "model=ensemble.AdaBoostClassifier(tree.DecisionTreeClassifier(max_depth=50), algorithm=\"SAMME\", n_estimators=100)\n",
        "model.fit(x_train,y_train)\n",
        "y_predicted=model.predict(x_test)\n",
        "print('A acurácia do adaboost é:',metrics.accuracy_score(y_predicted,y_test))"
      ],
      "execution_count": 94,
      "outputs": [
        {
          "output_type": "stream",
          "text": [
            "A acurácia do adaboost é: 0.721875\n"
          ],
          "name": "stdout"
        }
      ]
    },
    {
      "metadata": {
        "id": "ldC5_c9PlYzL",
        "colab_type": "code",
        "colab": {
          "base_uri": "https://localhost:8080/",
          "height": 35
        },
        "outputId": "cae23097-c637-45e4-dc61-c7977b50c575"
      },
      "cell_type": "code",
      "source": [
        "model=MLPClassifier(\n",
        "    max_iter = 1000,\n",
        "    momentum = 0.25,\n",
        "    learning_rate_init = 0.13,\n",
        "    hidden_layer_sizes = (12,),\n",
        "    solver = 'lbfgs',\n",
        "    learning_rate = 'invscaling',\n",
        "    activation = 'relu',\n",
        "    early_stopping = True,\n",
        "    shuffle = True,\n",
        "    batch_size = 2,\n",
        "    random_state = 2567\n",
        ")\n",
        "model.fit(x_train,y_train.astype(str))\n",
        "y_predicted=model.predict(x_test)\n",
        "print('A acurácia da rede neural é:',metrics.accuracy_score(y_predicted,y_test.astype(str)))"
      ],
      "execution_count": 95,
      "outputs": [
        {
          "output_type": "stream",
          "text": [
            "A acurácia da rede neural é: 0.821875\n"
          ],
          "name": "stdout"
        }
      ]
    }
  ]
}